{
 "cells": [
  {
   "cell_type": "markdown",
   "metadata": {},
   "source": [
    "# CADASTRO\n"
   ]
  },
  {
   "cell_type": "markdown",
   "metadata": {},
   "source": [
    "### IMPORTAÇÃO DA BIBLIOTECA"
   ]
  },
  {
   "cell_type": "code",
   "execution_count": null,
   "metadata": {},
   "outputs": [],
   "source": [
    "from PySimpleGUI import PySimpleGUI as sg"
   ]
  },
  {
   "cell_type": "markdown",
   "metadata": {},
   "source": [
    "### LAYOUT"
   ]
  },
  {
   "cell_type": "code",
   "execution_count": null,
   "metadata": {},
   "outputs": [],
   "source": [
    "sg.theme(\"Reddit\")\n",
    "interface_layout = [\n",
    "    [sg.Text('Usuário'), sg.Input(key = 'user')],\n",
    "    [sg.Text('Senha'), sg.Input(key = 'senha', password_char = '*')],\n",
    "    [sg.Checkbox('Salvar o login')],\n",
    "    [sg.Button('Entrar')]\n",
    "]"
   ]
  },
  {
   "cell_type": "markdown",
   "metadata": {},
   "source": [
    "### WINDOW"
   ]
  },
  {
   "cell_type": "code",
   "execution_count": null,
   "metadata": {},
   "outputs": [],
   "source": [
    "interface_janela = sg.Window('Login', interface_layout)"
   ]
  },
  {
   "cell_type": "markdown",
   "metadata": {},
   "source": [
    "### Execução"
   ]
  },
  {
   "cell_type": "code",
   "execution_count": null,
   "metadata": {},
   "outputs": [],
   "source": [
    "\n",
    "#Execução\n",
    "while True:\n",
    "    \n",
    "    execucao, value_senha = interface_janela.read()\n",
    "    #Quando o usuário consegui entrar\n",
    "    if execucao == 'Entrar':\n",
    "        if value_senha['user'] == 'Camila' and value_senha['senha'] == '654321':\n",
    "            print(\"Parabéns!!!\\n Você entrou \")\n",
    "    \n",
    "    #Quando o usuário fechar a janela, ela para de executar\n",
    "    if execucao == sg.WINDOW_CLOSED:\n",
    "        break\n",
    " \n",
    "    \n"
   ]
  }
 ],
 "metadata": {
  "kernelspec": {
   "display_name": "Python 3.9.12 ('base')",
   "language": "python",
   "name": "python3"
  },
  "language_info": {
   "name": "python",
   "version": "3.9.12"
  },
  "orig_nbformat": 4,
  "vscode": {
   "interpreter": {
    "hash": "a2ab3825ac7005fb7b26f112e9c99ae62f464c629e30b0d534c3b931b6cbc3ff"
   }
  }
 },
 "nbformat": 4,
 "nbformat_minor": 2
}
